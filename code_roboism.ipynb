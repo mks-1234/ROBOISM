{
  "cells": [
    {
      "cell_type": "code",
      "execution_count": 3,
      "metadata": {
        "colab": {
          "base_uri": "https://localhost:8080/"
        },
        "id": "13035VaDN3kx",
        "outputId": "168ddfa7-0424-4cb6-a79c-0f32d7651cdd"
      },
      "outputs": [
        {
          "name": "stdout",
          "output_type": "stream",
          "text": [
            "Enter 'asc' to print in ascending order.Enter 'desc' for descending order=\n",
            "desc\n",
            "[9, 5, 4, 3, 2, 1]\n"
          ]
        }
      ],
      "source": [
        "#Q1\n",
        "def function(l,t):\n",
        "    if t=='asc':\n",
        "        l.sort()\n",
        "    else:\n",
        "        l.sort(reverse=True)\n",
        "    print(l)\n",
        "list=[1,5,4,9,3,2]\n",
        "t=input(\"Enter 'asc' to print in ascending order.Enter 'desc' for descending order=\\n\")\n",
        "function(l,t)"
      ]
    },
    {
      "cell_type": "code",
      "execution_count": 1,
      "metadata": {
        "colab": {
          "base_uri": "https://localhost:8080/"
        },
        "id": "CK4VcOLIVjd_",
        "outputId": "0e1c467d-074a-4c6f-f274-972e79f88e4e"
      },
      "outputs": [
        {
          "name": "stdout",
          "output_type": "stream",
          "text": [
            "Enter the credit card number4444444444\n",
            "4444\n"
          ]
        }
      ],
      "source": [
        "#Q2\n",
        "def creditcard(l):\n",
        "    l=l[len(l)-4:]\n",
        "    return l\n",
        "l=input(\"Enter the credit card number\")\n",
        "print(creditcard(l))"
      ]
    },
    {
      "cell_type": "code",
      "execution_count": null,
      "metadata": {
        "colab": {
          "base_uri": "https://localhost:8080/"
        },
        "id": "wR24w7Vchb5K",
        "outputId": "8f19e233-700b-4b67-b96f-1a11580016ed"
      },
      "outputs": [
        {
          "name": "stdout",
          "output_type": "stream",
          "text": [
            "Enter the first number=5\n",
            "Enter the second number=4\n",
            "9\n"
          ]
        }
      ],
      "source": [
        "#Q3\n",
        "def function(x,y,operation):\n",
        "    if operation==\"+\":\n",
        "        return x+y\n",
        "    elif operation==\"-\":\n",
        "        return x-y\n",
        "    elif operation==\"/\":\n",
        "        return x/y\n",
        "    elif operation==\".\":\n",
        "        return x*y\n",
        "x=int(input(\"Enter the first number=\"))\n",
        "y=int(input(\"Enter the second number=\"))\n",
        "operation=input(\"Enter which operation you want to do=\")\n",
        "print(function(x,y,operation))"
      ]
    },
    {
      "cell_type": "code",
      "execution_count": 24,
      "metadata": {
        "colab": {
          "base_uri": "https://localhost:8080/"
        },
        "id": "QlGZoTxQ7Gpe",
        "outputId": "8fa5fa08-690e-43aa-ff5d-72ca9b4aa176"
      },
      "outputs": [
        {
          "name": "stdout",
          "output_type": "stream",
          "text": [
            "enter the string=abc\n",
            " aabbcc\n"
          ]
        }
      ],
      "source": [
        "#Q4\n",
        "def string(str):\n",
        "  v=len(str)\n",
        "  new_str=\" \"\n",
        "  for i in range(v):\n",
        "     new_str = new_str + (str[i]*2)\n",
        "  return new_str\n",
        "\n",
        "m=input(\"enter the string=\")\n",
        "print(string(m))\n"
      ]
    },
    {
      "cell_type": "code",
      "execution_count": 40,
      "metadata": {
        "colab": {
          "base_uri": "https://localhost:8080/"
        },
        "id": "IyC7Mar49k2i",
        "outputId": "f6f2fcce-73a7-4f5d-f009-409aa084f8f6"
      },
      "outputs": [
        {
          "name": "stdout",
          "output_type": "stream",
          "text": [
            "the element which is duplicate is 6\n"
          ]
        }
      ],
      "source": [
        "#Q5\n",
        "import random\n",
        "def duplicate(list):\n",
        "    for i in list:\n",
        "      if list.count(list[i]>1):\n",
        "        return (list[i])\n",
        "randomlist=[]\n",
        "for x in range(1,99):\n",
        "    n=random.randint(1,99)\n",
        "    randomlist.append(n)\n",
        "print(\"the element which is duplicate is\",duplicate(randomlist)) \n",
        "\n"
      ]
    },
    {
      "cell_type": "code",
      "execution_count": null,
      "metadata": {
        "id": "kUAwJL5oBFdN"
      },
      "outputs": [],
      "source": []
    },
    {
      "cell_type": "code",
      "execution_count": 4,
      "metadata": {
        "colab": {
          "base_uri": "https://localhost:8080/"
        },
        "id": "cxARu04Lnay0",
        "outputId": "ae7ddbd0-e2bf-4530-cadc-4241834af372"
      },
      "outputs": [
        {
          "name": "stdout",
          "output_type": "stream",
          "text": [
            "Enter the  range5\n",
            "2\n",
            "3\n",
            "5\n"
          ]
        }
      ],
      "source": [
        "#Q6\n",
        "import math\n",
        "x=int(input(\"Enter the  range\"))\n",
        "for i in range(2,x+1):\n",
        "    flag=0\n",
        "    for j in range(2,int(math.sqrt(i)+1)):\n",
        "            if i%j==0:\n",
        "                flag=1\n",
        "                break\n",
        "    if flag==0:\n",
        "       print(i)"
      ]
    },
    {
      "cell_type": "code",
      "execution_count": 7,
      "metadata": {
        "colab": {
          "base_uri": "https://localhost:8080/"
        },
        "id": "-yjJRuDb-YiY",
        "outputId": "912a74fe-770c-4138-f079-ee2492665357"
      },
      "outputs": [
        {
          "name": "stdout",
          "output_type": "stream",
          "text": [
            "Enter the numbers of elements=3\n",
            "Enter the elements\n",
            "3\n",
            "3\n",
            "3\n",
            "ModeResult(mode=array([3]), count=array([3]))\n"
          ]
        }
      ],
      "source": [
        "#Q7\n",
        "from scipy import stats\n",
        "list=[]\n",
        "y=int(input(\"Enter the numbers of elements=\"))\n",
        "print(\"Enter the elements\")\n",
        "for i in range(y):\n",
        "    ele=int(input())\n",
        "    list.append(ele)\n",
        "print(stats.mode(list))\n"
      ]
    },
    {
      "cell_type": "code",
      "execution_count": 10,
      "metadata": {
        "colab": {
          "base_uri": "https://localhost:8080/"
        },
        "id": "r3kZNg0muICz",
        "outputId": "993d866a-bbda-46f1-f223-a4fdceca8732"
      },
      "outputs": [
        {
          "name": "stdout",
          "output_type": "stream",
          "text": [
            "Enter the string34ert\n",
            "7\n"
          ]
        }
      ],
      "source": [
        "#Q8\n",
        "r=input(\"Enter the string\")\n",
        "sum=0;\n",
        "for i in range(len(r)):\n",
        "    if ord(r[i])>=ord(\"0\") and ord(r[i])<=ord(\"9\"):\n",
        "                sum=sum+int(r[i])\n",
        "    else :\n",
        "        continue\n",
        "print(sum)"
      ]
    },
    {
      "cell_type": "code",
      "execution_count": null,
      "metadata": {
        "colab": {
          "base_uri": "https://localhost:8080/"
        },
        "id": "YjTTQcm44_Ke",
        "outputId": "99d41082-b240-4544-e796-3d37226f217b"
      },
      "outputs": [
        {
          "name": "stdout",
          "output_type": "stream",
          "text": [
            "Enter the stringbcafehg\n",
            "The sorted string is  abcefgh\n"
          ]
        }
      ],
      "source": [
        "#Q9\n",
        "o=input(\"Enter the string\")\n",
        "sorted_str=''.join(sorted(o))\n",
        "print(\"The sorted string is \",sorted_str)\n"
      ]
    },
    {
      "cell_type": "code",
      "execution_count": 41,
      "metadata": {
        "colab": {
          "base_uri": "https://localhost:8080/"
        },
        "id": "YKP-1X2SBMXd",
        "outputId": "dbcb371f-feee-4247-a227-47c16a804029"
      },
      "outputs": [
        {
          "name": "stdout",
          "output_type": "stream",
          "text": [
            "Enter the first number3\n",
            "Enter the second number4\n",
            "4 3\n"
          ]
        }
      ],
      "source": [
        "#Q10\n",
        "i=int(input(\"Enter the first number\"))\n",
        "j=int(input(\"Enter the second number\"))\n",
        "i=i^j\n",
        "j=i^j\n",
        "i=i^j\n",
        "print(i,j)"
      ]
    }
  ],
  "metadata": {
    "colab": {
      "collapsed_sections": [],
      "name": "code_roboism.ipynb",
      "provenance": []
    },
    "kernelspec": {
      "display_name": "Python 3",
      "name": "python3"
    },
    "language_info": {
      "name": "python"
    }
  },
  "nbformat": 4,
  "nbformat_minor": 0
}
